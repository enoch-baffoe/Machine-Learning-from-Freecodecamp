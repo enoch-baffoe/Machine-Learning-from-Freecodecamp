{
 "cells": [
  {
   "cell_type": "code",
   "execution_count": 2,
   "id": "79a87a1a-c6cf-4efb-8d17-913fe132ab82",
   "metadata": {},
   "outputs": [
    {
     "data": {
      "text/html": [
       "<div>\n",
       "<style scoped>\n",
       "    .dataframe tbody tr th:only-of-type {\n",
       "        vertical-align: middle;\n",
       "    }\n",
       "\n",
       "    .dataframe tbody tr th {\n",
       "        vertical-align: top;\n",
       "    }\n",
       "\n",
       "    .dataframe thead th {\n",
       "        text-align: right;\n",
       "    }\n",
       "</style>\n",
       "<table border=\"1\" class=\"dataframe\">\n",
       "  <thead>\n",
       "    <tr style=\"text-align: right;\">\n",
       "      <th></th>\n",
       "      <th>SepalLength</th>\n",
       "      <th>SepalWidth</th>\n",
       "      <th>PetalLength</th>\n",
       "      <th>PetalWidth</th>\n",
       "      <th>Species</th>\n",
       "    </tr>\n",
       "  </thead>\n",
       "  <tbody>\n",
       "    <tr>\n",
       "      <th>0</th>\n",
       "      <td>6.4</td>\n",
       "      <td>2.8</td>\n",
       "      <td>5.6</td>\n",
       "      <td>2.2</td>\n",
       "      <td>2</td>\n",
       "    </tr>\n",
       "    <tr>\n",
       "      <th>1</th>\n",
       "      <td>5.0</td>\n",
       "      <td>2.3</td>\n",
       "      <td>3.3</td>\n",
       "      <td>1.0</td>\n",
       "      <td>1</td>\n",
       "    </tr>\n",
       "    <tr>\n",
       "      <th>2</th>\n",
       "      <td>4.9</td>\n",
       "      <td>2.5</td>\n",
       "      <td>4.5</td>\n",
       "      <td>1.7</td>\n",
       "      <td>2</td>\n",
       "    </tr>\n",
       "    <tr>\n",
       "      <th>3</th>\n",
       "      <td>4.9</td>\n",
       "      <td>3.1</td>\n",
       "      <td>1.5</td>\n",
       "      <td>0.1</td>\n",
       "      <td>0</td>\n",
       "    </tr>\n",
       "    <tr>\n",
       "      <th>4</th>\n",
       "      <td>5.7</td>\n",
       "      <td>3.8</td>\n",
       "      <td>1.7</td>\n",
       "      <td>0.3</td>\n",
       "      <td>0</td>\n",
       "    </tr>\n",
       "  </tbody>\n",
       "</table>\n",
       "</div>"
      ],
      "text/plain": [
       "   SepalLength  SepalWidth  PetalLength  PetalWidth  Species\n",
       "0          6.4         2.8          5.6         2.2        2\n",
       "1          5.0         2.3          3.3         1.0        1\n",
       "2          4.9         2.5          4.5         1.7        2\n",
       "3          4.9         3.1          1.5         0.1        0\n",
       "4          5.7         3.8          1.7         0.3        0"
      ]
     },
     "execution_count": 2,
     "metadata": {},
     "output_type": "execute_result"
    }
   ],
   "source": [
    "from __future__ import absolute_import, division, print_function, unicode_literals\n",
    "\n",
    "\n",
    "import tensorflow as tf\n",
    "\n",
    "import pandas as pd\n",
    "CSV_COLUMN_NAMES = ['SepalLength', 'SepalWidth', 'PetalLength', 'PetalWidth', 'Species']\n",
    "SPECIES = ['Setosa', 'Versicolor', 'Virginica']\n",
    "# Lets define some constants to help us later on\n",
    "\n",
    "train_path = tf.keras.utils.get_file(\n",
    "    \"iris_training.csv\", \"https://storage.googleapis.com/download.tensorflow.org/data/iris_training.csv\")\n",
    "test_path = tf.keras.utils.get_file(\n",
    "    \"iris_test.csv\", \"https://storage.googleapis.com/download.tensorflow.org/data/iris_test.csv\")\n",
    "\n",
    "train = pd.read_csv(train_path, names=CSV_COLUMN_NAMES, header=0)\n",
    "test = pd.read_csv(test_path, names=CSV_COLUMN_NAMES, header=0)\n",
    "# Here we use keras (a module inside of TensorFlow) to grab our datasets and read them into a pandas dataframe\n",
    "\n",
    "train.head()"
   ]
  },
  {
   "cell_type": "code",
   "execution_count": null,
   "id": "28551c40-554d-4191-9fc7-60f08c48dc16",
   "metadata": {},
   "outputs": [],
   "source": []
  },
  {
   "cell_type": "code",
   "execution_count": 3,
   "id": "a1c611db-6342-4701-8ec3-77b01a7a8d4f",
   "metadata": {},
   "outputs": [
    {
     "data": {
      "text/html": [
       "<div>\n",
       "<style scoped>\n",
       "    .dataframe tbody tr th:only-of-type {\n",
       "        vertical-align: middle;\n",
       "    }\n",
       "\n",
       "    .dataframe tbody tr th {\n",
       "        vertical-align: top;\n",
       "    }\n",
       "\n",
       "    .dataframe thead th {\n",
       "        text-align: right;\n",
       "    }\n",
       "</style>\n",
       "<table border=\"1\" class=\"dataframe\">\n",
       "  <thead>\n",
       "    <tr style=\"text-align: right;\">\n",
       "      <th></th>\n",
       "      <th>SepalLength</th>\n",
       "      <th>SepalWidth</th>\n",
       "      <th>PetalLength</th>\n",
       "      <th>PetalWidth</th>\n",
       "    </tr>\n",
       "  </thead>\n",
       "  <tbody>\n",
       "    <tr>\n",
       "      <th>0</th>\n",
       "      <td>6.4</td>\n",
       "      <td>2.8</td>\n",
       "      <td>5.6</td>\n",
       "      <td>2.2</td>\n",
       "    </tr>\n",
       "    <tr>\n",
       "      <th>1</th>\n",
       "      <td>5.0</td>\n",
       "      <td>2.3</td>\n",
       "      <td>3.3</td>\n",
       "      <td>1.0</td>\n",
       "    </tr>\n",
       "    <tr>\n",
       "      <th>2</th>\n",
       "      <td>4.9</td>\n",
       "      <td>2.5</td>\n",
       "      <td>4.5</td>\n",
       "      <td>1.7</td>\n",
       "    </tr>\n",
       "    <tr>\n",
       "      <th>3</th>\n",
       "      <td>4.9</td>\n",
       "      <td>3.1</td>\n",
       "      <td>1.5</td>\n",
       "      <td>0.1</td>\n",
       "    </tr>\n",
       "    <tr>\n",
       "      <th>4</th>\n",
       "      <td>5.7</td>\n",
       "      <td>3.8</td>\n",
       "      <td>1.7</td>\n",
       "      <td>0.3</td>\n",
       "    </tr>\n",
       "  </tbody>\n",
       "</table>\n",
       "</div>"
      ],
      "text/plain": [
       "   SepalLength  SepalWidth  PetalLength  PetalWidth\n",
       "0          6.4         2.8          5.6         2.2\n",
       "1          5.0         2.3          3.3         1.0\n",
       "2          4.9         2.5          4.5         1.7\n",
       "3          4.9         3.1          1.5         0.1\n",
       "4          5.7         3.8          1.7         0.3"
      ]
     },
     "execution_count": 3,
     "metadata": {},
     "output_type": "execute_result"
    }
   ],
   "source": [
    "train_y = train.pop('Species')\n",
    "test_y = test.pop('Species')\n",
    "train.head() # the species column is now gone"
   ]
  },
  {
   "cell_type": "code",
   "execution_count": 4,
   "id": "4085c001-3bf6-4a6f-86b1-859ebe6c3604",
   "metadata": {},
   "outputs": [],
   "source": [
    "def input_fn(features, labels, training=True, batch_size=256):\n",
    "    # Convert the inputs to a Dataset.\n",
    "    dataset = tf.data.Dataset.from_tensor_slices((dict(features), labels))\n",
    "\n",
    "    # Shuffle and repeat if you are in training mode.\n",
    "    if training:\n",
    "        dataset = dataset.shuffle(1000).repeat()\n",
    "    \n",
    "    return dataset.batch(batch_size)"
   ]
  },
  {
   "cell_type": "code",
   "execution_count": 5,
   "id": "a192eedb-adef-4cff-bddc-62decff6a014",
   "metadata": {},
   "outputs": [
    {
     "name": "stdout",
     "output_type": "stream",
     "text": [
      "[NumericColumn(key='SepalLength', shape=(1,), default_value=None, dtype=tf.float32, normalizer_fn=None), NumericColumn(key='SepalWidth', shape=(1,), default_value=None, dtype=tf.float32, normalizer_fn=None), NumericColumn(key='PetalLength', shape=(1,), default_value=None, dtype=tf.float32, normalizer_fn=None), NumericColumn(key='PetalWidth', shape=(1,), default_value=None, dtype=tf.float32, normalizer_fn=None)]\n"
     ]
    }
   ],
   "source": [
    "my_feature_columns = []\n",
    "for key in train.keys():\n",
    "    my_feature_columns.append(tf.feature_column.numeric_column(key=key))"
   ]
  },
  {
   "cell_type": "code",
   "execution_count": 6,
   "id": "6abcc716-31ad-417a-88d2-7a669093b260",
   "metadata": {},
   "outputs": [
    {
     "name": "stdout",
     "output_type": "stream",
     "text": [
      "INFO:tensorflow:Using default config.\n",
      "WARNING:tensorflow:Using temporary folder as model directory: C:\\Users\\ebaffoe\\AppData\\Local\\Temp\\tmpc67ukm_s\n",
      "INFO:tensorflow:Using config: {'_model_dir': 'C:\\\\Users\\\\ebaffoe\\\\AppData\\\\Local\\\\Temp\\\\tmpc67ukm_s', '_tf_random_seed': None, '_save_summary_steps': 100, '_save_checkpoints_steps': None, '_save_checkpoints_secs': 600, '_session_config': allow_soft_placement: true\n",
      "graph_options {\n",
      "  rewrite_options {\n",
      "    meta_optimizer_iterations: ONE\n",
      "  }\n",
      "}\n",
      ", '_keep_checkpoint_max': 5, '_keep_checkpoint_every_n_hours': 10000, '_log_step_count_steps': 100, '_train_distribute': None, '_device_fn': None, '_protocol': None, '_eval_distribute': None, '_experimental_distribute': None, '_experimental_max_worker_delay_secs': None, '_session_creation_timeout_secs': 7200, '_checkpoint_save_graph_def': True, '_service': None, '_cluster_spec': ClusterSpec({}), '_task_type': 'worker', '_task_id': 0, '_global_id_in_cluster': 0, '_master': '', '_evaluation_master': '', '_is_chief': True, '_num_ps_replicas': 0, '_num_worker_replicas': 1}\n"
     ]
    }
   ],
   "source": [
    "# Build a DNN with 2 hidden layers with 30 and 10 hidden nodes each.\n",
    "classifier = tf.estimator.DNNClassifier(\n",
    "    feature_columns=my_feature_columns,\n",
    "    # Two hidden layers of 30 and 10 nodes respectively.\n",
    "    hidden_units=[30, 10],\n",
    "    # The model must choose between 3 classes.\n",
    "    n_classes=3)"
   ]
  },
  {
   "cell_type": "code",
   "execution_count": 7,
   "id": "a5069416-1444-4770-bf95-342a9f46f90f",
   "metadata": {},
   "outputs": [
    {
     "name": "stdout",
     "output_type": "stream",
     "text": [
      "WARNING:tensorflow:From C:\\Users\\ebaffoe\\AppData\\Local\\Programs\\Python\\Python39\\lib\\site-packages\\tensorflow\\python\\training\\training_util.py:396: Variable.initialized_value (from tensorflow.python.ops.variables) is deprecated and will be removed in a future version.\n",
      "Instructions for updating:\n",
      "Use Variable.read_value. Variables in 2.X are initialized automatically both in eager and graph (inside tf.defun) contexts.\n",
      "INFO:tensorflow:Calling model_fn.\n",
      "WARNING:tensorflow:From C:\\Users\\ebaffoe\\AppData\\Local\\Programs\\Python\\Python39\\lib\\site-packages\\keras\\optimizer_v2\\adagrad.py:83: calling Constant.__init__ (from tensorflow.python.ops.init_ops) with dtype is deprecated and will be removed in a future version.\n",
      "Instructions for updating:\n",
      "Call initializer instance with the dtype argument instead of passing it to the constructor\n",
      "INFO:tensorflow:Done calling model_fn.\n",
      "INFO:tensorflow:Create CheckpointSaverHook.\n",
      "INFO:tensorflow:Graph was finalized.\n",
      "INFO:tensorflow:Running local_init_op.\n",
      "INFO:tensorflow:Done running local_init_op.\n",
      "INFO:tensorflow:Calling checkpoint listeners before saving checkpoint 0...\n",
      "INFO:tensorflow:Saving checkpoints for 0 into C:\\Users\\ebaffoe\\AppData\\Local\\Temp\\tmpc67ukm_s\\model.ckpt.\n",
      "INFO:tensorflow:Calling checkpoint listeners after saving checkpoint 0...\n",
      "INFO:tensorflow:loss = 1.3302035, step = 0\n",
      "INFO:tensorflow:global_step/sec: 508.034\n",
      "INFO:tensorflow:loss = 1.0579569, step = 100 (0.198 sec)\n",
      "INFO:tensorflow:global_step/sec: 631.783\n",
      "INFO:tensorflow:loss = 0.9609833, step = 200 (0.159 sec)\n",
      "INFO:tensorflow:global_step/sec: 650.584\n",
      "INFO:tensorflow:loss = 0.8985992, step = 300 (0.154 sec)\n",
      "INFO:tensorflow:global_step/sec: 626.267\n",
      "INFO:tensorflow:loss = 0.8586255, step = 400 (0.159 sec)\n",
      "INFO:tensorflow:global_step/sec: 638.81\n",
      "INFO:tensorflow:loss = 0.82053524, step = 500 (0.157 sec)\n",
      "INFO:tensorflow:global_step/sec: 632.511\n",
      "INFO:tensorflow:loss = 0.7902691, step = 600 (0.158 sec)\n",
      "INFO:tensorflow:global_step/sec: 625.732\n",
      "INFO:tensorflow:loss = 0.7648815, step = 700 (0.160 sec)\n",
      "INFO:tensorflow:global_step/sec: 627.176\n",
      "INFO:tensorflow:loss = 0.73650074, step = 800 (0.160 sec)\n",
      "INFO:tensorflow:global_step/sec: 630.749\n",
      "INFO:tensorflow:loss = 0.7154397, step = 900 (0.158 sec)\n",
      "INFO:tensorflow:global_step/sec: 640.786\n",
      "INFO:tensorflow:loss = 0.70279527, step = 1000 (0.156 sec)\n",
      "INFO:tensorflow:global_step/sec: 635.726\n",
      "INFO:tensorflow:loss = 0.6860429, step = 1100 (0.157 sec)\n",
      "INFO:tensorflow:global_step/sec: 630.957\n",
      "INFO:tensorflow:loss = 0.6570885, step = 1200 (0.159 sec)\n",
      "INFO:tensorflow:global_step/sec: 636.437\n",
      "INFO:tensorflow:loss = 0.64485514, step = 1300 (0.157 sec)\n",
      "INFO:tensorflow:global_step/sec: 628.422\n",
      "INFO:tensorflow:loss = 0.6224996, step = 1400 (0.160 sec)\n",
      "INFO:tensorflow:global_step/sec: 581.172\n",
      "INFO:tensorflow:loss = 0.6140375, step = 1500 (0.172 sec)\n",
      "INFO:tensorflow:global_step/sec: 633.539\n",
      "INFO:tensorflow:loss = 0.59616566, step = 1600 (0.157 sec)\n",
      "INFO:tensorflow:global_step/sec: 649.536\n",
      "INFO:tensorflow:loss = 0.5855377, step = 1700 (0.154 sec)\n",
      "INFO:tensorflow:global_step/sec: 626.768\n",
      "INFO:tensorflow:loss = 0.5695884, step = 1800 (0.160 sec)\n",
      "INFO:tensorflow:global_step/sec: 626.919\n",
      "INFO:tensorflow:loss = 0.55455637, step = 1900 (0.159 sec)\n",
      "INFO:tensorflow:global_step/sec: 613.225\n",
      "INFO:tensorflow:loss = 0.5416546, step = 2000 (0.164 sec)\n",
      "INFO:tensorflow:global_step/sec: 614.123\n",
      "INFO:tensorflow:loss = 0.54616576, step = 2100 (0.163 sec)\n",
      "INFO:tensorflow:global_step/sec: 577.495\n",
      "INFO:tensorflow:loss = 0.529817, step = 2200 (0.172 sec)\n",
      "INFO:tensorflow:global_step/sec: 587.918\n",
      "INFO:tensorflow:loss = 0.523679, step = 2300 (0.170 sec)\n",
      "INFO:tensorflow:global_step/sec: 618.838\n",
      "INFO:tensorflow:loss = 0.50959456, step = 2400 (0.163 sec)\n",
      "INFO:tensorflow:global_step/sec: 571.48\n",
      "INFO:tensorflow:loss = 0.5040186, step = 2500 (0.174 sec)\n",
      "INFO:tensorflow:global_step/sec: 601.759\n",
      "INFO:tensorflow:loss = 0.5025867, step = 2600 (0.166 sec)\n",
      "INFO:tensorflow:global_step/sec: 625.681\n",
      "INFO:tensorflow:loss = 0.48399934, step = 2700 (0.161 sec)\n",
      "INFO:tensorflow:global_step/sec: 561.479\n",
      "INFO:tensorflow:loss = 0.48284587, step = 2800 (0.177 sec)\n",
      "INFO:tensorflow:global_step/sec: 613.599\n",
      "INFO:tensorflow:loss = 0.4705301, step = 2900 (0.164 sec)\n",
      "INFO:tensorflow:global_step/sec: 615.536\n",
      "INFO:tensorflow:loss = 0.46336716, step = 3000 (0.162 sec)\n",
      "INFO:tensorflow:global_step/sec: 569.516\n",
      "INFO:tensorflow:loss = 0.45136258, step = 3100 (0.176 sec)\n",
      "INFO:tensorflow:global_step/sec: 619.978\n",
      "INFO:tensorflow:loss = 0.44279647, step = 3200 (0.161 sec)\n",
      "INFO:tensorflow:global_step/sec: 626.344\n",
      "INFO:tensorflow:loss = 0.4404914, step = 3300 (0.160 sec)\n",
      "INFO:tensorflow:global_step/sec: 612.814\n",
      "INFO:tensorflow:loss = 0.42046678, step = 3400 (0.163 sec)\n",
      "INFO:tensorflow:global_step/sec: 595.218\n",
      "INFO:tensorflow:loss = 0.42212301, step = 3500 (0.168 sec)\n",
      "INFO:tensorflow:global_step/sec: 588.089\n",
      "INFO:tensorflow:loss = 0.42011568, step = 3600 (0.170 sec)\n",
      "INFO:tensorflow:global_step/sec: 595.319\n",
      "INFO:tensorflow:loss = 0.41566256, step = 3700 (0.168 sec)\n",
      "INFO:tensorflow:global_step/sec: 605.185\n",
      "INFO:tensorflow:loss = 0.40189764, step = 3800 (0.166 sec)\n",
      "INFO:tensorflow:global_step/sec: 618.54\n",
      "INFO:tensorflow:loss = 0.4060715, step = 3900 (0.162 sec)\n",
      "INFO:tensorflow:global_step/sec: 594.927\n",
      "INFO:tensorflow:loss = 0.4037084, step = 4000 (0.168 sec)\n",
      "INFO:tensorflow:global_step/sec: 606.509\n",
      "INFO:tensorflow:loss = 0.3917622, step = 4100 (0.164 sec)\n",
      "INFO:tensorflow:global_step/sec: 584.415\n",
      "INFO:tensorflow:loss = 0.3895579, step = 4200 (0.171 sec)\n",
      "INFO:tensorflow:global_step/sec: 613.132\n",
      "INFO:tensorflow:loss = 0.3791075, step = 4300 (0.164 sec)\n",
      "INFO:tensorflow:global_step/sec: 598.753\n",
      "INFO:tensorflow:loss = 0.37937117, step = 4400 (0.166 sec)\n",
      "INFO:tensorflow:global_step/sec: 580.767\n",
      "INFO:tensorflow:loss = 0.37543464, step = 4500 (0.172 sec)\n",
      "INFO:tensorflow:global_step/sec: 581.508\n",
      "INFO:tensorflow:loss = 0.36512864, step = 4600 (0.172 sec)\n",
      "INFO:tensorflow:global_step/sec: 585.118\n",
      "INFO:tensorflow:loss = 0.36365843, step = 4700 (0.171 sec)\n",
      "INFO:tensorflow:global_step/sec: 592.297\n",
      "INFO:tensorflow:loss = 0.3594557, step = 4800 (0.169 sec)\n",
      "INFO:tensorflow:global_step/sec: 637.363\n",
      "INFO:tensorflow:loss = 0.3665101, step = 4900 (0.158 sec)\n",
      "INFO:tensorflow:Calling checkpoint listeners before saving checkpoint 5000...\n",
      "INFO:tensorflow:Saving checkpoints for 5000 into C:\\Users\\ebaffoe\\AppData\\Local\\Temp\\tmpc67ukm_s\\model.ckpt.\n",
      "INFO:tensorflow:Calling checkpoint listeners after saving checkpoint 5000...\n",
      "INFO:tensorflow:Loss for final step: 0.3553758.\n"
     ]
    },
    {
     "data": {
      "text/plain": [
       "<tensorflow_estimator.python.estimator.canned.dnn.DNNClassifierV2 at 0x20f20ad8bb0>"
      ]
     },
     "execution_count": 7,
     "metadata": {},
     "output_type": "execute_result"
    }
   ],
   "source": [
    "classifier.train(\n",
    "    input_fn=lambda: input_fn(train, train_y, training=True),\n",
    "    steps=5000)\n",
    "# We include a lambda to avoid creating an inner function previously"
   ]
  },
  {
   "cell_type": "code",
   "execution_count": 10,
   "id": "c4bfe7ff-e764-45b7-ac2e-316a71c9fb7d",
   "metadata": {},
   "outputs": [
    {
     "name": "stdout",
     "output_type": "stream",
     "text": [
      "INFO:tensorflow:Calling model_fn.\n",
      "INFO:tensorflow:Done calling model_fn.\n",
      "INFO:tensorflow:Starting evaluation at 2022-03-28T18:50:55\n",
      "INFO:tensorflow:Graph was finalized.\n",
      "INFO:tensorflow:Restoring parameters from C:\\Users\\ebaffoe\\AppData\\Local\\Temp\\tmpc67ukm_s\\model.ckpt-5000\n",
      "INFO:tensorflow:Running local_init_op.\n",
      "INFO:tensorflow:Done running local_init_op.\n",
      "INFO:tensorflow:Inference Time : 0.20070s\n",
      "INFO:tensorflow:Finished evaluation at 2022-03-28-18:50:55\n",
      "INFO:tensorflow:Saving dict for global step 5000: accuracy = 0.93333334, average_loss = 0.40674642, global_step = 5000, loss = 0.40674642\n",
      "INFO:tensorflow:Saving 'checkpoint_path' summary for global step 5000: C:\\Users\\ebaffoe\\AppData\\Local\\Temp\\tmpc67ukm_s\\model.ckpt-5000\n",
      "\n",
      "Test set accuracy:0.933\n",
      "\n"
     ]
    }
   ],
   "source": [
    "eval_result=classifier.evaluate(lambda: input_fn(test, test_y, training=False))\n",
    "print (\"\\nTest set accuracy:{accuracy:0.3f}\\n\".format(**eval_result))"
   ]
  },
  {
   "cell_type": "code",
   "execution_count": 11,
   "id": "a47509f2-3fcd-42f5-84f0-92cfbf0479e1",
   "metadata": {},
   "outputs": [
    {
     "name": "stdout",
     "output_type": "stream",
     "text": [
      "Please type numeric values as prompted.\n"
     ]
    },
    {
     "name": "stdin",
     "output_type": "stream",
     "text": [
      "SepalLength:  2.3\n",
      "SepalWidth:  6\n",
      "SepalWidth:  1.2\n",
      "PetalLength:  6\n",
      "PetalLength:  1\n",
      "PetalLength:  7\n",
      "PetalLength:  6.3\n",
      "PetalWidth:  3\n",
      "PetalWidth:  6.5\n"
     ]
    },
    {
     "name": "stdout",
     "output_type": "stream",
     "text": [
      "INFO:tensorflow:Calling model_fn.\n",
      "INFO:tensorflow:Done calling model_fn.\n",
      "INFO:tensorflow:Graph was finalized.\n",
      "INFO:tensorflow:Restoring parameters from C:\\Users\\ebaffoe\\AppData\\Local\\Temp\\tmpc67ukm_s\\model.ckpt-5000\n",
      "INFO:tensorflow:Running local_init_op.\n",
      "INFO:tensorflow:Done running local_init_op.\n",
      "Prediction is \"Virginica\" (99.8%)\n"
     ]
    }
   ],
   "source": [
    "def input_fn(features, batch_size=256):\n",
    "    # Convert the inputs to a Dataset without labels.\n",
    "    return tf.data.Dataset.from_tensor_slices(dict(features)).batch(batch_size)\n",
    "\n",
    "features = ['SepalLength', 'SepalWidth', 'PetalLength', 'PetalWidth']\n",
    "predict = {}\n",
    "\n",
    "print(\"Please type numeric values as prompted.\")\n",
    "for feature in features:\n",
    "  valid = True\n",
    "  while valid: \n",
    "    val = input(feature + \": \")\n",
    "    if not val.isdigit(): valid = False\n",
    "\n",
    "  predict[feature] = [float(val)]\n",
    "\n",
    "predictions = classifier.predict(input_fn=lambda: input_fn(predict))\n",
    "for pred_dict in predictions:\n",
    "    class_id = pred_dict['class_ids'][0]\n",
    "    probability = pred_dict['probabilities'][class_id]\n",
    "\n",
    "    print('Prediction is \"{}\" ({:.1f}%)'.format(\n",
    "        SPECIES[class_id], 100 * probability))"
   ]
  },
  {
   "cell_type": "code",
   "execution_count": null,
   "id": "650eeb82-adae-4bc0-a943-5efb9399f475",
   "metadata": {},
   "outputs": [],
   "source": []
  }
 ],
 "metadata": {
  "kernelspec": {
   "display_name": "Python 3 (ipykernel)",
   "language": "python",
   "name": "python3"
  },
  "language_info": {
   "codemirror_mode": {
    "name": "ipython",
    "version": 3
   },
   "file_extension": ".py",
   "mimetype": "text/x-python",
   "name": "python",
   "nbconvert_exporter": "python",
   "pygments_lexer": "ipython3",
   "version": "3.9.10"
  }
 },
 "nbformat": 4,
 "nbformat_minor": 5
}
